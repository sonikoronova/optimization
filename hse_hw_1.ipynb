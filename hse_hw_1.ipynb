{
 "cells": [
  {
   "cell_type": "markdown",
   "metadata": {},
   "source": [
    "# Задача 1"
   ]
  },
  {
   "cell_type": "markdown",
   "metadata": {},
   "source": [
    "Рассмотрим задачу классификации рукописных цифт на наборе данных MNIST (http://yann.lecun.com/exdb/mnist/).\n",
    "Одним из подходов к её решению является мультиномиальная логистическая регрессия, которую требуется реализовать и обучить методом градиентного спуска."
   ]
  },
  {
   "cell_type": "markdown",
   "metadata": {},
   "source": [
    "# Шаг 1"
   ]
  },
  {
   "cell_type": "markdown",
   "metadata": {},
   "source": [
    "Скачайте данные (https://s3.amazonaws.com/img-datasets/mnist.npz) и поместите их в удобную директорию с путём path. Загрузите данные при помощи кода ниже: "
   ]
  },
  {
   "cell_type": "code",
   "execution_count": 9,
   "metadata": {},
   "outputs": [],
   "source": [
    "import numpy as np\n",
    "path = '~/ogaltsov/Downloads/' # пример\n",
    "with np.load(path + '/mnist.npz', allow_pickle=True) as f:\n",
    "    x_train, y_train = f['x_train'], f['y_train']"
   ]
  },
  {
   "cell_type": "markdown",
   "metadata": {},
   "source": [
    "Данные представляют из себя набор из 60К изображений 28х28 пикселей (x_train), где цвет каждого пикселя закодирован числом от 0 до 255. В наборе y_train указано какая цифра изображена в соответствующем x_train изображении."
   ]
  },
  {
   "cell_type": "code",
   "execution_count": 4,
   "metadata": {},
   "outputs": [
    {
     "name": "stdout",
     "output_type": "stream",
     "text": [
      "(60000, 28, 28)\n",
      "(60000,)\n"
     ]
    }
   ],
   "source": [
    "print(x_train.shape)\n",
    "print(y_train.shape)"
   ]
  },
  {
   "cell_type": "code",
   "execution_count": 10,
   "metadata": {},
   "outputs": [
    {
     "name": "stdout",
     "output_type": "stream",
     "text": [
      "Цифра: 3\n",
      "Её изображение:\n"
     ]
    },
    {
     "data": {
      "image/png": "[encoded data removed]",
      "text/plain": [
       "<Figure size 432x288 with 1 Axes>"
      ]
     },
     "metadata": {
      "needs_background": "light"
     },
     "output_type": "display_data"
    }
   ],
   "source": [
    "%matplotlib inline\n",
    "import matplotlib\n",
    "import matplotlib.pyplot as plt\n",
    "\n",
    "# возьмём 10е изображение из набора\n",
    "idx = 10\n",
    "img = x_train[idx, :, :]\n",
    "digit = y_train[idx]\n",
    "print('Цифра:', digit)\n",
    "print('Её изображение:')\n",
    "plt.imshow(img, cmap=\"Greys\")\n",
    "plt.show()"
   ]
  },
  {
   "cell_type": "markdown",
   "metadata": {},
   "source": [
    "Таким образом, задача состоит в том, чтобы создать алгоритм, получающий на вход изображение, а на выходе предсказывающий цифру на изображении."
   ]
  },
  {
   "cell_type": "markdown",
   "metadata": {},
   "source": [
    "# Шаг 2"
   ]
  },
  {
   "cell_type": "markdown",
   "metadata": {},
   "source": [
    "Для решения данной задачи мы будем использовать мультиномиальную логистическую регрессию (https://en.wikipedia.org/wiki/Multinomial_logistic_regression). Кратко принцип её работы можно резюмировать так:\n",
    "1. На входе имеется набор n векторов-строк (60000 картинок) $x_{i}$ размерности k (k -- размер векторного представления картинки 28х28=784) и матрица параметров $w^{k x m}$ (где m -- число классов задачи, в нашем случае это 10 возможных цифр) <br>\n",
    "<br>\n",
    "2. Матрица параметров инициализируется случайно и обновляется в процессе оптимизации. Как обновлять веса?<br>\n",
    "<br>\n",
    "3. Идея в том, максимизировать логарифм вероятности истинного класса, который дан нам в обучающей выборке.<br>\n",
    "<br>\n",
    "4. Истинный класс картинки кодируется one-hot вектором $t$ размерности m, например, если на картинке изображена цифра 0, вектор t имеет вид $(1, 0, 0, 0, 0, 0, 0, 0, 0, 0, 0)$, если цифра 5 -- $(0, 0, 0, 0, 0, 1, 0, 0, 0, 0, 0)$<br>\n",
    "<br>\n",
    "5. Таким образом, нужно найти параметры, доставляющие минимум функции:<br>\n",
    "<br>\n",
    "$$\\arg\\min_{\\hat{w}} \\left[ -\\frac{1}{n}\\sum_{i = 1}^{n}\\sum_{j = 1}^{m + 1} t_{nj}\\log\\left[\\frac{\\exp(-x_{n}{w_{j}})}{\\sum_{l=1}^{m + 1}\\exp(-x_{n}{w_{l}})}\\right] \\right],$$\n",
    "где $t_{nj}$ -- j-ая компонента истинного класса n-й картинки, а $w_{j}$ -- это j-й столбец матрицы $w$"
   ]
  },
  {
   "cell_type": "markdown",
   "metadata": {},
   "source": [
    "# Шаг 3"
   ]
  },
  {
   "cell_type": "markdown",
   "metadata": {},
   "source": [
    "Порядок выполнения задачи:\n",
    "1. Покажите, что оптимизируемая функция является выпуклой по параметрам $w$<br> \n",
    "<br> \n",
    "2. Найдите аналитическое выражение для градиента данной функции по параметрам $w$<br> \n",
    "<br> \n",
    "3. Реализуйте алгоритм градиентного спуска с постоянным шагом для данной функции<br> \n",
    "<br> \n",
    "4. Поставьте эксперимент на заданном наборе данных, используя библиотеку numpy: <br> \n",
    "    4.1 Представьте каждую из картинок x_train как вектор размера 784 <br> \n",
    "    4.2 Закодируйте каждый истинный класс из y_train вектором t <br> \n",
    "    4.3 Инициализируйте матрицу параметров случайными значениями <br> \n",
    "    4.4 Используя аналитическое выражение для градиента и процедуру градиентного спуска оптимизируйте параметры $w$ <br> \n",
    "    4.5 Постройте график зависимости значения функции от итерации оптимизации"
   ]
  }
 ],
 "metadata": {
  "kernelspec": {
   "display_name": "Python 3",
   "language": "python",
   "name": "python3"
  },
  "language_info": {
   "codemirror_mode": {
    "name": "ipython",
    "version": 3
   },
   "file_extension": ".py",
   "mimetype": "text/x-python",
   "name": "python",
   "nbconvert_exporter": "python",
   "pygments_lexer": "ipython3",
   "version": "3.6.10"
  }
 },
 "nbformat": 4,
 "nbformat_minor": 2
}
